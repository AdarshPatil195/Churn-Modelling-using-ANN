{
 "cells": [
  {
   "cell_type": "code",
   "execution_count": 1,
   "id": "2891f4e1",
   "metadata": {},
   "outputs": [],
   "source": [
    "import tensorflow as tf"
   ]
  },
  {
   "cell_type": "code",
   "execution_count": 2,
   "id": "caeab2bd",
   "metadata": {},
   "outputs": [
    {
     "name": "stdout",
     "output_type": "stream",
     "text": [
      "2.11.0\n"
     ]
    }
   ],
   "source": [
    "print(tf.__version__)\n",
    "     "
   ]
  },
  {
   "cell_type": "code",
   "execution_count": 3,
   "id": "856bb14d",
   "metadata": {},
   "outputs": [],
   "source": [
    "## importing libraries\n",
    "import numpy as np \n",
    "import matplotlib.pyplot as plt\n",
    "import pandas as pd\n",
    "     "
   ]
  },
  {
   "cell_type": "code",
   "execution_count": 4,
   "id": "3b3e1618",
   "metadata": {},
   "outputs": [
    {
     "data": {
      "text/html": [
       "<div>\n",
       "<style scoped>\n",
       "    .dataframe tbody tr th:only-of-type {\n",
       "        vertical-align: middle;\n",
       "    }\n",
       "\n",
       "    .dataframe tbody tr th {\n",
       "        vertical-align: top;\n",
       "    }\n",
       "\n",
       "    .dataframe thead th {\n",
       "        text-align: right;\n",
       "    }\n",
       "</style>\n",
       "<table border=\"1\" class=\"dataframe\">\n",
       "  <thead>\n",
       "    <tr style=\"text-align: right;\">\n",
       "      <th></th>\n",
       "      <th>RowNumber</th>\n",
       "      <th>CustomerId</th>\n",
       "      <th>Surname</th>\n",
       "      <th>CreditScore</th>\n",
       "      <th>Geography</th>\n",
       "      <th>Gender</th>\n",
       "      <th>Age</th>\n",
       "      <th>Tenure</th>\n",
       "      <th>Balance</th>\n",
       "      <th>NumOfProducts</th>\n",
       "      <th>HasCrCard</th>\n",
       "      <th>IsActiveMember</th>\n",
       "      <th>EstimatedSalary</th>\n",
       "      <th>Exited</th>\n",
       "    </tr>\n",
       "  </thead>\n",
       "  <tbody>\n",
       "    <tr>\n",
       "      <th>0</th>\n",
       "      <td>1</td>\n",
       "      <td>15634602</td>\n",
       "      <td>Hargrave</td>\n",
       "      <td>619</td>\n",
       "      <td>France</td>\n",
       "      <td>Female</td>\n",
       "      <td>42</td>\n",
       "      <td>2</td>\n",
       "      <td>0.00</td>\n",
       "      <td>1</td>\n",
       "      <td>1</td>\n",
       "      <td>1</td>\n",
       "      <td>101348.88</td>\n",
       "      <td>1</td>\n",
       "    </tr>\n",
       "    <tr>\n",
       "      <th>1</th>\n",
       "      <td>2</td>\n",
       "      <td>15647311</td>\n",
       "      <td>Hill</td>\n",
       "      <td>608</td>\n",
       "      <td>Spain</td>\n",
       "      <td>Female</td>\n",
       "      <td>41</td>\n",
       "      <td>1</td>\n",
       "      <td>83807.86</td>\n",
       "      <td>1</td>\n",
       "      <td>0</td>\n",
       "      <td>1</td>\n",
       "      <td>112542.58</td>\n",
       "      <td>0</td>\n",
       "    </tr>\n",
       "    <tr>\n",
       "      <th>2</th>\n",
       "      <td>3</td>\n",
       "      <td>15619304</td>\n",
       "      <td>Onio</td>\n",
       "      <td>502</td>\n",
       "      <td>France</td>\n",
       "      <td>Female</td>\n",
       "      <td>42</td>\n",
       "      <td>8</td>\n",
       "      <td>159660.80</td>\n",
       "      <td>3</td>\n",
       "      <td>1</td>\n",
       "      <td>0</td>\n",
       "      <td>113931.57</td>\n",
       "      <td>1</td>\n",
       "    </tr>\n",
       "    <tr>\n",
       "      <th>3</th>\n",
       "      <td>4</td>\n",
       "      <td>15701354</td>\n",
       "      <td>Boni</td>\n",
       "      <td>699</td>\n",
       "      <td>France</td>\n",
       "      <td>Female</td>\n",
       "      <td>39</td>\n",
       "      <td>1</td>\n",
       "      <td>0.00</td>\n",
       "      <td>2</td>\n",
       "      <td>0</td>\n",
       "      <td>0</td>\n",
       "      <td>93826.63</td>\n",
       "      <td>0</td>\n",
       "    </tr>\n",
       "    <tr>\n",
       "      <th>4</th>\n",
       "      <td>5</td>\n",
       "      <td>15737888</td>\n",
       "      <td>Mitchell</td>\n",
       "      <td>850</td>\n",
       "      <td>Spain</td>\n",
       "      <td>Female</td>\n",
       "      <td>43</td>\n",
       "      <td>2</td>\n",
       "      <td>125510.82</td>\n",
       "      <td>1</td>\n",
       "      <td>1</td>\n",
       "      <td>1</td>\n",
       "      <td>79084.10</td>\n",
       "      <td>0</td>\n",
       "    </tr>\n",
       "  </tbody>\n",
       "</table>\n",
       "</div>"
      ],
      "text/plain": [
       "   RowNumber  CustomerId   Surname  CreditScore Geography  Gender  Age  \\\n",
       "0          1    15634602  Hargrave          619    France  Female   42   \n",
       "1          2    15647311      Hill          608     Spain  Female   41   \n",
       "2          3    15619304      Onio          502    France  Female   42   \n",
       "3          4    15701354      Boni          699    France  Female   39   \n",
       "4          5    15737888  Mitchell          850     Spain  Female   43   \n",
       "\n",
       "   Tenure    Balance  NumOfProducts  HasCrCard  IsActiveMember  \\\n",
       "0       2       0.00              1          1               1   \n",
       "1       1   83807.86              1          0               1   \n",
       "2       8  159660.80              3          1               0   \n",
       "3       1       0.00              2          0               0   \n",
       "4       2  125510.82              1          1               1   \n",
       "\n",
       "   EstimatedSalary  Exited  \n",
       "0        101348.88       1  \n",
       "1        112542.58       0  \n",
       "2        113931.57       1  \n",
       "3         93826.63       0  \n",
       "4         79084.10       0  "
      ]
     },
     "execution_count": 4,
     "metadata": {},
     "output_type": "execute_result"
    }
   ],
   "source": [
    "dataset=pd.read_csv('Churn_Modelling.csv')\n",
    "dataset.head()"
   ]
  },
  {
   "cell_type": "code",
   "execution_count": 5,
   "id": "8b8b4f57",
   "metadata": {},
   "outputs": [],
   "source": [
    "#seperating the dataset \n",
    "X=dataset.iloc[:,3:13]\n",
    "y=dataset.iloc[:,13]"
   ]
  },
  {
   "cell_type": "code",
   "execution_count": 6,
   "id": "d1a9ab0a",
   "metadata": {},
   "outputs": [
    {
     "data": {
      "text/html": [
       "<div>\n",
       "<style scoped>\n",
       "    .dataframe tbody tr th:only-of-type {\n",
       "        vertical-align: middle;\n",
       "    }\n",
       "\n",
       "    .dataframe tbody tr th {\n",
       "        vertical-align: top;\n",
       "    }\n",
       "\n",
       "    .dataframe thead th {\n",
       "        text-align: right;\n",
       "    }\n",
       "</style>\n",
       "<table border=\"1\" class=\"dataframe\">\n",
       "  <thead>\n",
       "    <tr style=\"text-align: right;\">\n",
       "      <th></th>\n",
       "      <th>CreditScore</th>\n",
       "      <th>Geography</th>\n",
       "      <th>Gender</th>\n",
       "      <th>Age</th>\n",
       "      <th>Tenure</th>\n",
       "      <th>Balance</th>\n",
       "      <th>NumOfProducts</th>\n",
       "      <th>HasCrCard</th>\n",
       "      <th>IsActiveMember</th>\n",
       "      <th>EstimatedSalary</th>\n",
       "    </tr>\n",
       "  </thead>\n",
       "  <tbody>\n",
       "    <tr>\n",
       "      <th>0</th>\n",
       "      <td>619</td>\n",
       "      <td>France</td>\n",
       "      <td>Female</td>\n",
       "      <td>42</td>\n",
       "      <td>2</td>\n",
       "      <td>0.00</td>\n",
       "      <td>1</td>\n",
       "      <td>1</td>\n",
       "      <td>1</td>\n",
       "      <td>101348.88</td>\n",
       "    </tr>\n",
       "    <tr>\n",
       "      <th>1</th>\n",
       "      <td>608</td>\n",
       "      <td>Spain</td>\n",
       "      <td>Female</td>\n",
       "      <td>41</td>\n",
       "      <td>1</td>\n",
       "      <td>83807.86</td>\n",
       "      <td>1</td>\n",
       "      <td>0</td>\n",
       "      <td>1</td>\n",
       "      <td>112542.58</td>\n",
       "    </tr>\n",
       "    <tr>\n",
       "      <th>2</th>\n",
       "      <td>502</td>\n",
       "      <td>France</td>\n",
       "      <td>Female</td>\n",
       "      <td>42</td>\n",
       "      <td>8</td>\n",
       "      <td>159660.80</td>\n",
       "      <td>3</td>\n",
       "      <td>1</td>\n",
       "      <td>0</td>\n",
       "      <td>113931.57</td>\n",
       "    </tr>\n",
       "  </tbody>\n",
       "</table>\n",
       "</div>"
      ],
      "text/plain": [
       "   CreditScore Geography  Gender  Age  Tenure    Balance  NumOfProducts  \\\n",
       "0          619    France  Female   42       2       0.00              1   \n",
       "1          608     Spain  Female   41       1   83807.86              1   \n",
       "2          502    France  Female   42       8  159660.80              3   \n",
       "\n",
       "   HasCrCard  IsActiveMember  EstimatedSalary  \n",
       "0          1               1        101348.88  \n",
       "1          0               1        112542.58  \n",
       "2          1               0        113931.57  "
      ]
     },
     "execution_count": 6,
     "metadata": {},
     "output_type": "execute_result"
    }
   ],
   "source": [
    "X.head(3)"
   ]
  },
  {
   "cell_type": "code",
   "execution_count": 7,
   "id": "b69190f2",
   "metadata": {},
   "outputs": [
    {
     "data": {
      "text/plain": [
       "0    1\n",
       "1    0\n",
       "2    1\n",
       "Name: Exited, dtype: int64"
      ]
     },
     "execution_count": 7,
     "metadata": {},
     "output_type": "execute_result"
    }
   ],
   "source": [
    "y.head(3)"
   ]
  },
  {
   "cell_type": "code",
   "execution_count": 8,
   "id": "43dd1856",
   "metadata": {},
   "outputs": [
    {
     "data": {
      "text/html": [
       "<div>\n",
       "<style scoped>\n",
       "    .dataframe tbody tr th:only-of-type {\n",
       "        vertical-align: middle;\n",
       "    }\n",
       "\n",
       "    .dataframe tbody tr th {\n",
       "        vertical-align: top;\n",
       "    }\n",
       "\n",
       "    .dataframe thead th {\n",
       "        text-align: right;\n",
       "    }\n",
       "</style>\n",
       "<table border=\"1\" class=\"dataframe\">\n",
       "  <thead>\n",
       "    <tr style=\"text-align: right;\">\n",
       "      <th></th>\n",
       "      <th>Germany</th>\n",
       "      <th>Spain</th>\n",
       "    </tr>\n",
       "  </thead>\n",
       "  <tbody>\n",
       "    <tr>\n",
       "      <th>0</th>\n",
       "      <td>0</td>\n",
       "      <td>0</td>\n",
       "    </tr>\n",
       "    <tr>\n",
       "      <th>1</th>\n",
       "      <td>0</td>\n",
       "      <td>1</td>\n",
       "    </tr>\n",
       "    <tr>\n",
       "      <th>2</th>\n",
       "      <td>0</td>\n",
       "      <td>0</td>\n",
       "    </tr>\n",
       "    <tr>\n",
       "      <th>3</th>\n",
       "      <td>0</td>\n",
       "      <td>0</td>\n",
       "    </tr>\n",
       "    <tr>\n",
       "      <th>4</th>\n",
       "      <td>0</td>\n",
       "      <td>1</td>\n",
       "    </tr>\n",
       "    <tr>\n",
       "      <th>...</th>\n",
       "      <td>...</td>\n",
       "      <td>...</td>\n",
       "    </tr>\n",
       "    <tr>\n",
       "      <th>9995</th>\n",
       "      <td>0</td>\n",
       "      <td>0</td>\n",
       "    </tr>\n",
       "    <tr>\n",
       "      <th>9996</th>\n",
       "      <td>0</td>\n",
       "      <td>0</td>\n",
       "    </tr>\n",
       "    <tr>\n",
       "      <th>9997</th>\n",
       "      <td>0</td>\n",
       "      <td>0</td>\n",
       "    </tr>\n",
       "    <tr>\n",
       "      <th>9998</th>\n",
       "      <td>1</td>\n",
       "      <td>0</td>\n",
       "    </tr>\n",
       "    <tr>\n",
       "      <th>9999</th>\n",
       "      <td>0</td>\n",
       "      <td>0</td>\n",
       "    </tr>\n",
       "  </tbody>\n",
       "</table>\n",
       "<p>10000 rows × 2 columns</p>\n",
       "</div>"
      ],
      "text/plain": [
       "      Germany  Spain\n",
       "0           0      0\n",
       "1           0      1\n",
       "2           0      0\n",
       "3           0      0\n",
       "4           0      1\n",
       "...       ...    ...\n",
       "9995        0      0\n",
       "9996        0      0\n",
       "9997        0      0\n",
       "9998        1      0\n",
       "9999        0      0\n",
       "\n",
       "[10000 rows x 2 columns]"
      ]
     },
     "execution_count": 8,
     "metadata": {},
     "output_type": "execute_result"
    }
   ],
   "source": [
    "pd.get_dummies(X['Geography'],drop_first=True)"
   ]
  },
  {
   "cell_type": "code",
   "execution_count": 9,
   "id": "6ee75486",
   "metadata": {},
   "outputs": [],
   "source": [
    "geography=pd.get_dummies(X['Geography'],drop_first=True)"
   ]
  },
  {
   "cell_type": "code",
   "execution_count": 10,
   "id": "1a7c5e60",
   "metadata": {},
   "outputs": [],
   "source": [
    "gender=pd.get_dummies(X['Gender'],drop_first=True)"
   ]
  },
  {
   "cell_type": "code",
   "execution_count": 11,
   "id": "87f747fb",
   "metadata": {},
   "outputs": [
    {
     "data": {
      "text/html": [
       "<div>\n",
       "<style scoped>\n",
       "    .dataframe tbody tr th:only-of-type {\n",
       "        vertical-align: middle;\n",
       "    }\n",
       "\n",
       "    .dataframe tbody tr th {\n",
       "        vertical-align: top;\n",
       "    }\n",
       "\n",
       "    .dataframe thead th {\n",
       "        text-align: right;\n",
       "    }\n",
       "</style>\n",
       "<table border=\"1\" class=\"dataframe\">\n",
       "  <thead>\n",
       "    <tr style=\"text-align: right;\">\n",
       "      <th></th>\n",
       "      <th>Male</th>\n",
       "    </tr>\n",
       "  </thead>\n",
       "  <tbody>\n",
       "    <tr>\n",
       "      <th>0</th>\n",
       "      <td>0</td>\n",
       "    </tr>\n",
       "    <tr>\n",
       "      <th>1</th>\n",
       "      <td>0</td>\n",
       "    </tr>\n",
       "  </tbody>\n",
       "</table>\n",
       "</div>"
      ],
      "text/plain": [
       "   Male\n",
       "0     0\n",
       "1     0"
      ]
     },
     "execution_count": 11,
     "metadata": {},
     "output_type": "execute_result"
    }
   ],
   "source": [
    "gender.head(2)"
   ]
  },
  {
   "cell_type": "code",
   "execution_count": 12,
   "id": "38b1148b",
   "metadata": {},
   "outputs": [],
   "source": [
    "X=X.drop(['Geography','Gender'],axis=1)"
   ]
  },
  {
   "cell_type": "code",
   "execution_count": 13,
   "id": "4ce43cfc",
   "metadata": {},
   "outputs": [
    {
     "data": {
      "text/html": [
       "<div>\n",
       "<style scoped>\n",
       "    .dataframe tbody tr th:only-of-type {\n",
       "        vertical-align: middle;\n",
       "    }\n",
       "\n",
       "    .dataframe tbody tr th {\n",
       "        vertical-align: top;\n",
       "    }\n",
       "\n",
       "    .dataframe thead th {\n",
       "        text-align: right;\n",
       "    }\n",
       "</style>\n",
       "<table border=\"1\" class=\"dataframe\">\n",
       "  <thead>\n",
       "    <tr style=\"text-align: right;\">\n",
       "      <th></th>\n",
       "      <th>CreditScore</th>\n",
       "      <th>Age</th>\n",
       "      <th>Tenure</th>\n",
       "      <th>Balance</th>\n",
       "      <th>NumOfProducts</th>\n",
       "      <th>HasCrCard</th>\n",
       "      <th>IsActiveMember</th>\n",
       "      <th>EstimatedSalary</th>\n",
       "    </tr>\n",
       "  </thead>\n",
       "  <tbody>\n",
       "    <tr>\n",
       "      <th>0</th>\n",
       "      <td>619</td>\n",
       "      <td>42</td>\n",
       "      <td>2</td>\n",
       "      <td>0.00</td>\n",
       "      <td>1</td>\n",
       "      <td>1</td>\n",
       "      <td>1</td>\n",
       "      <td>101348.88</td>\n",
       "    </tr>\n",
       "    <tr>\n",
       "      <th>1</th>\n",
       "      <td>608</td>\n",
       "      <td>41</td>\n",
       "      <td>1</td>\n",
       "      <td>83807.86</td>\n",
       "      <td>1</td>\n",
       "      <td>0</td>\n",
       "      <td>1</td>\n",
       "      <td>112542.58</td>\n",
       "    </tr>\n",
       "    <tr>\n",
       "      <th>2</th>\n",
       "      <td>502</td>\n",
       "      <td>42</td>\n",
       "      <td>8</td>\n",
       "      <td>159660.80</td>\n",
       "      <td>3</td>\n",
       "      <td>1</td>\n",
       "      <td>0</td>\n",
       "      <td>113931.57</td>\n",
       "    </tr>\n",
       "  </tbody>\n",
       "</table>\n",
       "</div>"
      ],
      "text/plain": [
       "   CreditScore  Age  Tenure    Balance  NumOfProducts  HasCrCard  \\\n",
       "0          619   42       2       0.00              1          1   \n",
       "1          608   41       1   83807.86              1          0   \n",
       "2          502   42       8  159660.80              3          1   \n",
       "\n",
       "   IsActiveMember  EstimatedSalary  \n",
       "0               1        101348.88  \n",
       "1               1        112542.58  \n",
       "2               0        113931.57  "
      ]
     },
     "execution_count": 13,
     "metadata": {},
     "output_type": "execute_result"
    }
   ],
   "source": [
    "X.head(3)"
   ]
  },
  {
   "cell_type": "code",
   "execution_count": 14,
   "id": "9a083d77",
   "metadata": {},
   "outputs": [],
   "source": [
    "#concatination\n",
    "X=pd.concat([X,geography,gender],axis=1)"
   ]
  },
  {
   "cell_type": "code",
   "execution_count": 15,
   "id": "1bc63454",
   "metadata": {},
   "outputs": [],
   "source": [
    "from sklearn.model_selection import train_test_split\n",
    "\n",
    "X_train,X_test,y_train,y_test=train_test_split(X,y,test_size=0.2,random_state=0)"
   ]
  },
  {
   "cell_type": "code",
   "execution_count": 16,
   "id": "d4b118be",
   "metadata": {},
   "outputs": [],
   "source": [
    "#feature scaling\n",
    "\n",
    "from sklearn.preprocessing import StandardScaler\n",
    "sc=StandardScaler()\n",
    "X_train=sc.fit_transform(X_train)\n",
    "X_test=sc.transform(X_test)"
   ]
  },
  {
   "cell_type": "code",
   "execution_count": 17,
   "id": "f697f677",
   "metadata": {},
   "outputs": [
    {
     "data": {
      "text/plain": [
       "array([[ 0.16958176, -0.46460796,  0.00666099, ..., -0.5698444 ,\n",
       "         1.74309049, -1.09168714],\n",
       "       [-2.30455945,  0.30102557, -1.37744033, ...,  1.75486502,\n",
       "        -0.57369368,  0.91601335],\n",
       "       [-1.19119591, -0.94312892, -1.031415  , ..., -0.5698444 ,\n",
       "        -0.57369368, -1.09168714],\n",
       "       ...,\n",
       "       [ 0.9015152 , -0.36890377,  0.00666099, ..., -0.5698444 ,\n",
       "        -0.57369368,  0.91601335],\n",
       "       [-0.62420521, -0.08179119,  1.39076231, ..., -0.5698444 ,\n",
       "         1.74309049, -1.09168714],\n",
       "       [-0.28401079,  0.87525072, -1.37744033, ...,  1.75486502,\n",
       "        -0.57369368, -1.09168714]])"
      ]
     },
     "execution_count": 17,
     "metadata": {},
     "output_type": "execute_result"
    }
   ],
   "source": [
    "X_train"
   ]
  },
  {
   "cell_type": "code",
   "execution_count": 18,
   "id": "5e3a75a8",
   "metadata": {},
   "outputs": [
    {
     "data": {
      "text/plain": [
       "array([[-0.55204276, -0.36890377,  1.04473698, ...,  1.75486502,\n",
       "        -0.57369368, -1.09168714],\n",
       "       [-1.31490297,  0.10961719, -1.031415  , ..., -0.5698444 ,\n",
       "        -0.57369368, -1.09168714],\n",
       "       [ 0.57162971,  0.30102557,  1.04473698, ..., -0.5698444 ,\n",
       "         1.74309049, -1.09168714],\n",
       "       ...,\n",
       "       [-0.74791227, -0.27319958, -1.37744033, ..., -0.5698444 ,\n",
       "         1.74309049,  0.91601335],\n",
       "       [-0.00566991, -0.46460796, -0.33936434, ...,  1.75486502,\n",
       "        -0.57369368,  0.91601335],\n",
       "       [-0.79945688, -0.84742473,  1.04473698, ...,  1.75486502,\n",
       "        -0.57369368,  0.91601335]])"
      ]
     },
     "execution_count": 18,
     "metadata": {},
     "output_type": "execute_result"
    }
   ],
   "source": [
    "X_test"
   ]
  },
  {
   "cell_type": "code",
   "execution_count": 19,
   "id": "402126a3",
   "metadata": {},
   "outputs": [
    {
     "data": {
      "text/plain": [
       "(8000, 11)"
      ]
     },
     "execution_count": 19,
     "metadata": {},
     "output_type": "execute_result"
    }
   ],
   "source": [
    "X_train.shape"
   ]
  },
  {
   "cell_type": "code",
   "execution_count": 20,
   "id": "0efb9445",
   "metadata": {},
   "outputs": [],
   "source": [
    "### Now lets creat ANN\n",
    "from tensorflow.keras.models import Sequential\n",
    "from tensorflow.keras.layers import Dense\n",
    "from tensorflow.keras.layers import LeakyReLU, PReLU, ELU, ReLU\n",
    "from tensorflow.keras.layers import Dropout"
   ]
  },
  {
   "cell_type": "code",
   "execution_count": 21,
   "id": "53a4651e",
   "metadata": {},
   "outputs": [],
   "source": [
    "# lets initialize the ANN\n",
    "Classifier=Sequential()"
   ]
  },
  {
   "cell_type": "code",
   "execution_count": 22,
   "id": "3c0897cc",
   "metadata": {},
   "outputs": [],
   "source": [
    "# adding the input layer\n",
    "Classifier.add(Dense(units=11,activation='relu'))"
   ]
  },
  {
   "cell_type": "code",
   "execution_count": 23,
   "id": "c21d621d",
   "metadata": {},
   "outputs": [],
   "source": [
    "# adding the first hidden layer\n",
    "Classifier.add(Dense(units=7,activation='relu'))"
   ]
  },
  {
   "cell_type": "code",
   "execution_count": 24,
   "id": "043cdefc",
   "metadata": {},
   "outputs": [],
   "source": [
    "# adding the second hidden layer\n",
    "Classifier.add(Dense(units=6,activation='relu'))"
   ]
  },
  {
   "cell_type": "code",
   "execution_count": 25,
   "id": "9e3be382",
   "metadata": {},
   "outputs": [],
   "source": [
    "## adding the output layer\n",
    "Classifier.add(Dense(units=1,activation='sigmoid'))"
   ]
  },
  {
   "cell_type": "code",
   "execution_count": 26,
   "id": "b0382ed7",
   "metadata": {},
   "outputs": [],
   "source": [
    "Classifier.compile(optimizer='adam',loss='binary_crossentropy',metrics=['accuracy'])"
   ]
  },
  {
   "cell_type": "code",
   "execution_count": 27,
   "id": "cdf0df45",
   "metadata": {},
   "outputs": [
    {
     "name": "stdout",
     "output_type": "stream",
     "text": [
      "Epoch 1/50\n",
      "536/536 [==============================] - 5s 4ms/step - loss: 0.5135 - accuracy: 0.7934 - val_loss: 0.4674 - val_accuracy: 0.7955\n",
      "Epoch 2/50\n",
      "536/536 [==============================] - 2s 3ms/step - loss: 0.4474 - accuracy: 0.7972 - val_loss: 0.4402 - val_accuracy: 0.8008\n",
      "Epoch 3/50\n",
      "536/536 [==============================] - 2s 3ms/step - loss: 0.4191 - accuracy: 0.8132 - val_loss: 0.4175 - val_accuracy: 0.8190\n",
      "Epoch 4/50\n",
      "536/536 [==============================] - 2s 3ms/step - loss: 0.3880 - accuracy: 0.8377 - val_loss: 0.3975 - val_accuracy: 0.8300\n",
      "Epoch 5/50\n",
      "536/536 [==============================] - 2s 3ms/step - loss: 0.3659 - accuracy: 0.8470 - val_loss: 0.3829 - val_accuracy: 0.8342\n",
      "Epoch 6/50\n",
      "536/536 [==============================] - 2s 3ms/step - loss: 0.3550 - accuracy: 0.8545 - val_loss: 0.3763 - val_accuracy: 0.8432\n",
      "Epoch 7/50\n",
      "536/536 [==============================] - 2s 3ms/step - loss: 0.3489 - accuracy: 0.8546 - val_loss: 0.3758 - val_accuracy: 0.8448\n",
      "Epoch 8/50\n",
      "536/536 [==============================] - 2s 3ms/step - loss: 0.3448 - accuracy: 0.8587 - val_loss: 0.3744 - val_accuracy: 0.8451\n",
      "Epoch 9/50\n",
      "536/536 [==============================] - 2s 3ms/step - loss: 0.3418 - accuracy: 0.8580 - val_loss: 0.3754 - val_accuracy: 0.8478\n",
      "Epoch 10/50\n",
      "536/536 [==============================] - 2s 4ms/step - loss: 0.3387 - accuracy: 0.8602 - val_loss: 0.3755 - val_accuracy: 0.8466\n",
      "Epoch 11/50\n",
      "536/536 [==============================] - 2s 3ms/step - loss: 0.3364 - accuracy: 0.8627 - val_loss: 0.3795 - val_accuracy: 0.8410\n",
      "Epoch 12/50\n",
      "536/536 [==============================] - 2s 3ms/step - loss: 0.3349 - accuracy: 0.8628 - val_loss: 0.3732 - val_accuracy: 0.8466\n",
      "Epoch 13/50\n",
      "536/536 [==============================] - 2s 3ms/step - loss: 0.3322 - accuracy: 0.8623 - val_loss: 0.3761 - val_accuracy: 0.8436\n",
      "Epoch 14/50\n",
      "536/536 [==============================] - 2s 3ms/step - loss: 0.3318 - accuracy: 0.8638 - val_loss: 0.3736 - val_accuracy: 0.8466\n",
      "Epoch 15/50\n",
      "536/536 [==============================] - 2s 3ms/step - loss: 0.3305 - accuracy: 0.8655 - val_loss: 0.3744 - val_accuracy: 0.8470\n",
      "Epoch 16/50\n",
      "536/536 [==============================] - 2s 3ms/step - loss: 0.3295 - accuracy: 0.8636 - val_loss: 0.3775 - val_accuracy: 0.8432\n",
      "Epoch 17/50\n",
      "536/536 [==============================] - 2s 3ms/step - loss: 0.3291 - accuracy: 0.8653 - val_loss: 0.3712 - val_accuracy: 0.8493\n",
      "Epoch 18/50\n",
      "536/536 [==============================] - 2s 3ms/step - loss: 0.3273 - accuracy: 0.8658 - val_loss: 0.3769 - val_accuracy: 0.8440\n",
      "Epoch 19/50\n",
      "536/536 [==============================] - 2s 3ms/step - loss: 0.3265 - accuracy: 0.8660 - val_loss: 0.3731 - val_accuracy: 0.8455\n",
      "Epoch 20/50\n",
      "536/536 [==============================] - 2s 3ms/step - loss: 0.3264 - accuracy: 0.8660 - val_loss: 0.3740 - val_accuracy: 0.8451\n",
      "Epoch 21/50\n",
      "536/536 [==============================] - 2s 3ms/step - loss: 0.3250 - accuracy: 0.8645 - val_loss: 0.3770 - val_accuracy: 0.8455\n",
      "Epoch 22/50\n",
      "536/536 [==============================] - 2s 3ms/step - loss: 0.3261 - accuracy: 0.8651 - val_loss: 0.3748 - val_accuracy: 0.8448\n",
      "Epoch 23/50\n",
      "536/536 [==============================] - 2s 3ms/step - loss: 0.3254 - accuracy: 0.8668 - val_loss: 0.3765 - val_accuracy: 0.8485\n",
      "Epoch 24/50\n",
      "536/536 [==============================] - 2s 3ms/step - loss: 0.3240 - accuracy: 0.8651 - val_loss: 0.3739 - val_accuracy: 0.8455\n",
      "Epoch 25/50\n",
      "536/536 [==============================] - 2s 3ms/step - loss: 0.3235 - accuracy: 0.8679 - val_loss: 0.3727 - val_accuracy: 0.8485\n",
      "Epoch 26/50\n",
      "536/536 [==============================] - 2s 3ms/step - loss: 0.3232 - accuracy: 0.8651 - val_loss: 0.3762 - val_accuracy: 0.8508\n",
      "Epoch 27/50\n",
      "536/536 [==============================] - 2s 3ms/step - loss: 0.3228 - accuracy: 0.8662 - val_loss: 0.3705 - val_accuracy: 0.8497\n",
      "Epoch 28/50\n",
      "536/536 [==============================] - 2s 3ms/step - loss: 0.3223 - accuracy: 0.8688 - val_loss: 0.3746 - val_accuracy: 0.8455\n",
      "Epoch 29/50\n",
      "536/536 [==============================] - 2s 3ms/step - loss: 0.3218 - accuracy: 0.8677 - val_loss: 0.3746 - val_accuracy: 0.8455\n",
      "Epoch 30/50\n",
      "536/536 [==============================] - 2s 3ms/step - loss: 0.3220 - accuracy: 0.8698 - val_loss: 0.3745 - val_accuracy: 0.8478\n",
      "Epoch 31/50\n",
      "536/536 [==============================] - 2s 3ms/step - loss: 0.3213 - accuracy: 0.8688 - val_loss: 0.3744 - val_accuracy: 0.8478\n",
      "Epoch 32/50\n",
      "536/536 [==============================] - 2s 3ms/step - loss: 0.3217 - accuracy: 0.8658 - val_loss: 0.3748 - val_accuracy: 0.8451\n",
      "Epoch 33/50\n",
      "536/536 [==============================] - 2s 3ms/step - loss: 0.3202 - accuracy: 0.8679 - val_loss: 0.3737 - val_accuracy: 0.8448\n",
      "Epoch 34/50\n",
      "536/536 [==============================] - 2s 3ms/step - loss: 0.3201 - accuracy: 0.8701 - val_loss: 0.3718 - val_accuracy: 0.8485\n",
      "Epoch 35/50\n",
      "536/536 [==============================] - 2s 3ms/step - loss: 0.3199 - accuracy: 0.8707 - val_loss: 0.3736 - val_accuracy: 0.8459\n",
      "Epoch 36/50\n",
      "536/536 [==============================] - 2s 3ms/step - loss: 0.3198 - accuracy: 0.8707 - val_loss: 0.3722 - val_accuracy: 0.8489\n",
      "Epoch 37/50\n",
      "536/536 [==============================] - 2s 3ms/step - loss: 0.3189 - accuracy: 0.8677 - val_loss: 0.3736 - val_accuracy: 0.8463\n",
      "Epoch 38/50\n",
      "536/536 [==============================] - 2s 3ms/step - loss: 0.3192 - accuracy: 0.8698 - val_loss: 0.3745 - val_accuracy: 0.8493\n",
      "Epoch 39/50\n",
      "536/536 [==============================] - 2s 3ms/step - loss: 0.3184 - accuracy: 0.8686 - val_loss: 0.3707 - val_accuracy: 0.8489\n",
      "Epoch 40/50\n",
      "536/536 [==============================] - 2s 3ms/step - loss: 0.3184 - accuracy: 0.8712 - val_loss: 0.3766 - val_accuracy: 0.8459\n",
      "Epoch 41/50\n",
      "536/536 [==============================] - 2s 3ms/step - loss: 0.3181 - accuracy: 0.8698 - val_loss: 0.3740 - val_accuracy: 0.8508\n",
      "Epoch 42/50\n",
      "536/536 [==============================] - 2s 3ms/step - loss: 0.3181 - accuracy: 0.8698 - val_loss: 0.3731 - val_accuracy: 0.8485\n",
      "Epoch 43/50\n",
      "536/536 [==============================] - 2s 3ms/step - loss: 0.3178 - accuracy: 0.8692 - val_loss: 0.3732 - val_accuracy: 0.8501\n",
      "Epoch 44/50\n",
      "536/536 [==============================] - 2s 4ms/step - loss: 0.3166 - accuracy: 0.8686 - val_loss: 0.3735 - val_accuracy: 0.8497\n",
      "Epoch 45/50\n",
      "536/536 [==============================] - 5s 9ms/step - loss: 0.3170 - accuracy: 0.8712 - val_loss: 0.3734 - val_accuracy: 0.8485\n",
      "Epoch 46/50\n",
      "536/536 [==============================] - 3s 5ms/step - loss: 0.3164 - accuracy: 0.8720 - val_loss: 0.3780 - val_accuracy: 0.8466\n",
      "Epoch 47/50\n",
      "536/536 [==============================] - 4s 8ms/step - loss: 0.3157 - accuracy: 0.8666 - val_loss: 0.3710 - val_accuracy: 0.8485\n",
      "Epoch 48/50\n",
      "536/536 [==============================] - 2s 4ms/step - loss: 0.3168 - accuracy: 0.8699 - val_loss: 0.3725 - val_accuracy: 0.8485\n",
      "Epoch 49/50\n",
      "536/536 [==============================] - 2s 3ms/step - loss: 0.3156 - accuracy: 0.8698 - val_loss: 0.3762 - val_accuracy: 0.8459\n",
      "Epoch 50/50\n",
      "536/536 [==============================] - 2s 3ms/step - loss: 0.3149 - accuracy: 0.8709 - val_loss: 0.3743 - val_accuracy: 0.8463\n"
     ]
    }
   ],
   "source": [
    "model_history=Classifier.fit(X_train,y_train,validation_split=0.33,batch_size=10,epochs=50)"
   ]
  },
  {
   "cell_type": "code",
   "execution_count": 28,
   "id": "e473830d",
   "metadata": {},
   "outputs": [
    {
     "data": {
      "text/plain": [
       "dict_keys(['loss', 'accuracy', 'val_loss', 'val_accuracy'])"
      ]
     },
     "execution_count": 28,
     "metadata": {},
     "output_type": "execute_result"
    }
   ],
   "source": [
    "model_history.history.keys()"
   ]
  },
  {
   "cell_type": "code",
   "execution_count": 29,
   "id": "d70a999b",
   "metadata": {},
   "outputs": [
    {
     "name": "stdout",
     "output_type": "stream",
     "text": [
      "63/63 [==============================] - 0s 2ms/step\n"
     ]
    }
   ],
   "source": [
    "## now making the predictions and evaluating the model\n",
    "y_pred = Classifier.predict(X_test)\n",
    "y_pred = (y_pred >= 0.5)"
   ]
  },
  {
   "cell_type": "code",
   "execution_count": 30,
   "id": "daa8976c",
   "metadata": {},
   "outputs": [],
   "source": [
    "# making the confusion matrix\n",
    "from sklearn.metrics import confusion_matrix"
   ]
  },
  {
   "cell_type": "code",
   "execution_count": 31,
   "id": "28c65a83",
   "metadata": {},
   "outputs": [
    {
     "data": {
      "text/plain": [
       "array([[1504,   91],\n",
       "       [ 191,  214]], dtype=int64)"
      ]
     },
     "execution_count": 31,
     "metadata": {},
     "output_type": "execute_result"
    }
   ],
   "source": [
    "cm=confusion_matrix(y_test,y_pred)\n",
    "cm"
   ]
  },
  {
   "cell_type": "code",
   "execution_count": 32,
   "id": "b33e6427",
   "metadata": {},
   "outputs": [],
   "source": [
    "\n",
    "## Calculating the accuracy\n",
    "from sklearn.metrics import accuracy_score\n",
    "score=accuracy_score(y_pred,y_test)"
   ]
  },
  {
   "cell_type": "code",
   "execution_count": 33,
   "id": "f734c76b",
   "metadata": {},
   "outputs": [
    {
     "data": {
      "text/plain": [
       "0.859"
      ]
     },
     "execution_count": 33,
     "metadata": {},
     "output_type": "execute_result"
    }
   ],
   "source": [
    "score"
   ]
  },
  {
   "cell_type": "code",
   "execution_count": 34,
   "id": "3736388b",
   "metadata": {},
   "outputs": [
    {
     "data": {
      "text/plain": [
       "[array([[ 4.85841825e-04, -4.98354845e-02, -4.66001868e-01,\n",
       "          1.10420309e-01,  1.74411923e-01,  9.16618854e-02,\n",
       "         -1.45270631e-01, -1.64011136e-01, -8.17612410e-02,\n",
       "          1.45112485e-01,  4.34693433e-02],\n",
       "        [ 6.28183305e-01,  2.04512164e-01, -6.80104733e-01,\n",
       "         -1.00024617e+00, -2.66589671e-01, -3.95024747e-01,\n",
       "         -7.19801366e-01, -1.02726392e-01, -5.40859461e-01,\n",
       "         -3.92956525e-01, -3.32095593e-01],\n",
       "        [ 1.52980343e-01,  1.43219084e-01, -1.43335775e-01,\n",
       "          1.66353017e-01,  2.90806651e-01,  1.78120639e-02,\n",
       "          2.27387741e-01, -4.17214930e-01, -1.88689500e-01,\n",
       "         -1.12272434e-01,  6.25858903e-01],\n",
       "        [-3.75449419e-01, -4.43619750e-02, -3.25570524e-01,\n",
       "          4.16756235e-02,  1.83438078e-01, -2.42012963e-01,\n",
       "         -1.12022549e-01, -3.69862080e-01, -8.19686651e-02,\n",
       "         -1.05667186e+00, -3.02364737e-01],\n",
       "        [-1.93535425e-02,  1.07423770e+00, -2.71389753e-01,\n",
       "         -4.92273569e-01, -3.77104372e-01,  2.44448602e-01,\n",
       "          3.65540624e-01, -8.79820466e-01,  6.17355704e-01,\n",
       "         -1.35150716e-01, -2.72133648e-01],\n",
       "        [-4.39332686e-02,  4.88980254e-03,  4.50631022e-01,\n",
       "         -1.07778840e-01,  3.08655739e-01,  1.83378920e-01,\n",
       "         -9.32870582e-02, -1.89351812e-02,  2.42542624e-01,\n",
       "         -2.45178550e-01, -4.03124750e-01],\n",
       "        [ 9.49570775e-01, -1.03894368e-01, -4.46130596e-02,\n",
       "         -2.06510991e-01, -5.24469137e-01,  1.57317176e-01,\n",
       "          2.72360831e-01, -2.82245666e-01,  1.62032068e-01,\n",
       "         -5.10434285e-02,  3.81348506e-02],\n",
       "        [-5.61396405e-02, -2.04870120e-01, -5.22561193e-01,\n",
       "         -2.83921897e-01, -8.89359295e-01,  6.30722791e-02,\n",
       "          2.63500303e-01,  6.05757952e-01,  3.77898514e-01,\n",
       "         -5.12686610e-01,  2.15304136e-01],\n",
       "        [-3.13429564e-01, -1.93878517e-01, -3.24763715e-01,\n",
       "         -4.09495652e-01, -8.76932368e-02, -7.40007818e-01,\n",
       "         -2.98905104e-01,  2.59067863e-01,  5.12902975e-01,\n",
       "          2.01128032e-02, -5.59118278e-02],\n",
       "        [ 4.62730899e-02,  3.38537186e-01, -2.15250030e-01,\n",
       "          3.00319400e-02,  5.03542542e-01,  5.88956058e-01,\n",
       "         -1.61165610e-01,  1.90766558e-01, -3.37393850e-01,\n",
       "          1.64014414e-01,  3.22689600e-02],\n",
       "        [ 4.76858288e-01,  1.54730141e-01, -5.15256584e-01,\n",
       "         -1.42101660e-01, -4.21045780e-01, -9.10649374e-02,\n",
       "          8.42591763e-01, -1.11785062e-01, -1.76935628e-01,\n",
       "          6.83647156e-01, -1.59533210e-02]], dtype=float32),\n",
       " array([-0.1701542 , -0.06729013, -0.02647945,  0.7651374 ,  0.13989887,\n",
       "         0.275551  ,  0.5996992 ,  0.15076578,  0.0663531 ,  0.4086801 ,\n",
       "         0.10703436], dtype=float32),\n",
       " array([[-0.26564318, -0.14581345,  0.57870066, -0.8786843 , -0.02192418,\n",
       "          0.38117275, -0.33885378],\n",
       "        [ 1.0898988 ,  0.5859307 ,  0.05410709,  0.31933597, -0.7841125 ,\n",
       "          0.04886002,  0.68795806],\n",
       "        [-0.57487565, -0.47920075,  0.49376103,  0.30515975,  0.29545328,\n",
       "         -0.65299386, -0.14343925],\n",
       "        [-0.10155486,  0.5984166 ,  0.27602828, -0.091714  , -0.764042  ,\n",
       "         -0.4343455 , -0.18373396],\n",
       "        [-0.58299935, -0.43592405, -0.1640594 , -0.20806974,  0.23484233,\n",
       "          0.00644733, -0.7106087 ],\n",
       "        [-0.15271235, -0.13111018,  0.3711356 , -0.4982679 , -0.16993193,\n",
       "          0.65313584,  0.28316253],\n",
       "        [-0.22084574,  0.8348118 ,  0.2880658 , -0.2230696 ,  0.0343722 ,\n",
       "         -0.18277876, -0.28547144],\n",
       "        [-0.05909833, -0.20606442, -0.16601598, -0.35887045,  0.23425077,\n",
       "         -0.20149402, -1.3986043 ],\n",
       "        [ 0.18911704, -0.07919044,  0.06630976,  0.43204066, -0.7415566 ,\n",
       "          0.6043936 ,  0.28086385],\n",
       "        [-0.35140276,  0.84949493, -0.4270536 ,  0.71428686,  0.3627216 ,\n",
       "          0.23100157,  0.19142991],\n",
       "        [-0.8090029 ,  0.44913903, -0.08857906, -0.45462677,  0.566284  ,\n",
       "          0.35768616,  0.17322373]], dtype=float32),\n",
       " array([ 0.02680289,  0.18260154,  0.19730376,  0.17184173,  0.3130579 ,\n",
       "         0.12820409, -0.23186061], dtype=float32),\n",
       " array([[-0.00462702,  0.14452186,  1.1900765 , -0.6437051 ,  0.8063336 ,\n",
       "         -0.23218513],\n",
       "        [ 0.3470165 , -0.74021214, -0.5163622 ,  0.8236833 , -0.0773579 ,\n",
       "         -0.12981564],\n",
       "        [ 0.26805303,  0.51867145, -0.10369013, -0.21722308, -0.2440297 ,\n",
       "          0.78028506],\n",
       "        [-0.90942174,  0.32344076,  0.49999496,  0.19796476, -0.4642972 ,\n",
       "          0.0477968 ],\n",
       "        [ 0.2085414 , -0.00556649,  0.7528997 , -0.80515164,  0.8966092 ,\n",
       "         -0.23122014],\n",
       "        [ 0.23839274,  0.64523774,  0.25651667,  0.6580507 ,  0.23283851,\n",
       "          0.24023728],\n",
       "        [ 0.70789313, -0.24622518,  0.6282451 , -0.28362924,  0.9497635 ,\n",
       "          0.34786332]], dtype=float32),\n",
       " array([-0.46482477, -0.04211028,  0.18350895,  0.210826  ,  0.24204567,\n",
       "         0.1360752 ], dtype=float32),\n",
       " array([[ 0.54630315],\n",
       "        [-1.143352  ],\n",
       "        [ 0.66805565],\n",
       "        [-1.0011741 ],\n",
       "        [ 1.3192188 ],\n",
       "        [-0.98920494]], dtype=float32),\n",
       " array([-0.13219072], dtype=float32)]"
      ]
     },
     "execution_count": 34,
     "metadata": {},
     "output_type": "execute_result"
    }
   ],
   "source": [
    "## to get the weights \n",
    "Classifier.get_weights()"
   ]
  },
  {
   "cell_type": "code",
   "execution_count": null,
   "id": "06fcd053",
   "metadata": {},
   "outputs": [],
   "source": []
  },
  {
   "cell_type": "code",
   "execution_count": null,
   "id": "02e1e494",
   "metadata": {},
   "outputs": [],
   "source": []
  },
  {
   "cell_type": "code",
   "execution_count": null,
   "id": "6e139cd6",
   "metadata": {},
   "outputs": [],
   "source": []
  },
  {
   "cell_type": "code",
   "execution_count": null,
   "id": "b65fbffd",
   "metadata": {},
   "outputs": [],
   "source": []
  },
  {
   "cell_type": "code",
   "execution_count": null,
   "id": "91cbe37a",
   "metadata": {},
   "outputs": [],
   "source": []
  },
  {
   "cell_type": "code",
   "execution_count": null,
   "id": "166f7b30",
   "metadata": {},
   "outputs": [],
   "source": []
  },
  {
   "cell_type": "code",
   "execution_count": null,
   "id": "d2b32305",
   "metadata": {},
   "outputs": [],
   "source": []
  },
  {
   "cell_type": "code",
   "execution_count": null,
   "id": "902a892f",
   "metadata": {},
   "outputs": [],
   "source": []
  }
 ],
 "metadata": {
  "kernelspec": {
   "display_name": "Python 3 (ipykernel)",
   "language": "python",
   "name": "python3"
  },
  "language_info": {
   "codemirror_mode": {
    "name": "ipython",
    "version": 3
   },
   "file_extension": ".py",
   "mimetype": "text/x-python",
   "name": "python",
   "nbconvert_exporter": "python",
   "pygments_lexer": "ipython3",
   "version": "3.9.12"
  }
 },
 "nbformat": 4,
 "nbformat_minor": 5
}
